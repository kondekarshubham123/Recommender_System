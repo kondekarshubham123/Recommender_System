{
 "cells": [
  {
   "cell_type": "code",
   "execution_count": 1,
   "metadata": {},
   "outputs": [],
   "source": [
    "# Import Libraries\n",
    "import pickle\n",
    "import numpy as np\n",
    "from sklearn.metrics.pairwise import cosine_similarity\n",
    "import pandas as pd"
   ]
  },
  {
   "cell_type": "code",
   "execution_count": 2,
   "metadata": {},
   "outputs": [
    {
     "name": "stdout",
     "output_type": "stream",
     "text": [
      "   Event1  Event2\n",
      "0       7       5\n",
      "1       0      11\n",
      "2       6       4\n",
      "3       1      11\n",
      "4       3       0\n"
     ]
    }
   ],
   "source": [
    "df = pd.read_csv('Model/preprocessing.csv')\n",
    "events = df.iloc[:,3:]\n",
    "print(events.head())"
   ]
  },
  {
   "cell_type": "code",
   "execution_count": 3,
   "metadata": {},
   "outputs": [],
   "source": [
    "eve = pickle.load(open('Model/Events.pickle','rb'))\n",
    "dom = pickle.load(open('Model/Domain.pickle','rb'))"
   ]
  },
  {
   "cell_type": "code",
   "execution_count": null,
   "metadata": {},
   "outputs": [],
   "source": []
  },
  {
   "cell_type": "code",
   "execution_count": 4,
   "metadata": {},
   "outputs": [
    {
     "name": "stdout",
     "output_type": "stream",
     "text": [
      "Enter the sentence: Hackathon\n"
     ]
    }
   ],
   "source": [
    "s = input('Enter the sentence: ')"
   ]
  },
  {
   "cell_type": "code",
   "execution_count": 5,
   "metadata": {},
   "outputs": [],
   "source": [
    "ev = [i for i in eve if i in s]\n",
    "d = [i for i in dom if i in s]"
   ]
  },
  {
   "cell_type": "code",
   "execution_count": 6,
   "metadata": {},
   "outputs": [
    {
     "name": "stdout",
     "output_type": "stream",
     "text": [
      "{'artificial intelligence': 0, 'blockchain': 1, 'c': 2, 'c++': 3, 'cloud computing': 4, 'coding': 5, 'data science': 6, 'development processes': 7, 'finance': 8, 'hardware': 9, 'higher education': 10, 'iot': 11, 'java': 12, 'javascript': 13, 'machine learning': 14, 'management': 15, 'mobile applications': 16, 'networking': 17, 'other': 18, 'python': 19, 'security': 20, 'software architecture': 21, 'web development': 22}\n"
     ]
    }
   ],
   "source": [
    "print(dom)"
   ]
  },
  {
   "cell_type": "code",
   "execution_count": 7,
   "metadata": {},
   "outputs": [
    {
     "name": "stdout",
     "output_type": "stream",
     "text": [
      "Enter Event 1: Certifications\n",
      "Enter Event 2: Webinars\n"
     ]
    }
   ],
   "source": [
    "event1 = input(\"Enter Event 1: \")\n",
    "event2 = input(\"Enter Event 2: \")"
   ]
  },
  {
   "cell_type": "code",
   "execution_count": 8,
   "metadata": {},
   "outputs": [],
   "source": [
    "event1 = eve[event1.lower()]\n",
    "event2 = eve[event2.lower()]"
   ]
  },
  {
   "cell_type": "code",
   "execution_count": 9,
   "metadata": {},
   "outputs": [],
   "source": [
    "similar_metrics = cosine_similarity(events)\n",
    "result = np.where(events == [event1,event2])[0][0]"
   ]
  },
  {
   "cell_type": "code",
   "execution_count": 10,
   "metadata": {},
   "outputs": [],
   "source": [
    "result = list(enumerate(similar_metrics[result]))\n",
    "result = sorted(result,key= lambda x: x[1],reverse=True)\n",
    "top = result[:5]"
   ]
  },
  {
   "cell_type": "code",
   "execution_count": 11,
   "metadata": {},
   "outputs": [],
   "source": [
    "lst = [(df['Name'].iloc[i[0]]) for i in top]"
   ]
  },
  {
   "cell_type": "code",
   "execution_count": 12,
   "metadata": {},
   "outputs": [
    {
     "name": "stdout",
     "output_type": "stream",
     "text": [
      "Hackathon | Joseph Sullivan , Curtis Ortega , David Foster , Christine Potter , Ernest Pierce\n"
     ]
    }
   ],
   "source": [
    "print(s, '|', lst[0], ',' ,lst[1], ',' ,lst[2], ',', lst[3], ',', lst[4])"
   ]
  },
  {
   "cell_type": "code",
   "execution_count": 13,
   "metadata": {},
   "outputs": [
    {
     "data": {
      "text/html": [
       "<div>\n",
       "<style scoped>\n",
       "    .dataframe tbody tr th:only-of-type {\n",
       "        vertical-align: middle;\n",
       "    }\n",
       "\n",
       "    .dataframe tbody tr th {\n",
       "        vertical-align: top;\n",
       "    }\n",
       "\n",
       "    .dataframe thead th {\n",
       "        text-align: right;\n",
       "    }\n",
       "</style>\n",
       "<table border=\"1\" class=\"dataframe\">\n",
       "  <thead>\n",
       "    <tr style=\"text-align: right;\">\n",
       "      <th></th>\n",
       "      <th>Event Name</th>\n",
       "    </tr>\n",
       "  </thead>\n",
       "  <tbody>\n",
       "    <tr>\n",
       "      <th>0</th>\n",
       "      <td>Hackathon</td>\n",
       "    </tr>\n",
       "  </tbody>\n",
       "</table>\n",
       "</div>"
      ],
      "text/plain": [
       "  Event Name\n",
       "0  Hackathon"
      ]
     },
     "execution_count": 13,
     "metadata": {},
     "output_type": "execute_result"
    }
   ],
   "source": [
    "df1 = pd.DataFrame([s], columns=['Event Name'])\n",
    "df1"
   ]
  },
  {
   "cell_type": "code",
   "execution_count": 14,
   "metadata": {},
   "outputs": [
    {
     "data": {
      "text/html": [
       "<div>\n",
       "<style scoped>\n",
       "    .dataframe tbody tr th:only-of-type {\n",
       "        vertical-align: middle;\n",
       "    }\n",
       "\n",
       "    .dataframe tbody tr th {\n",
       "        vertical-align: top;\n",
       "    }\n",
       "\n",
       "    .dataframe thead th {\n",
       "        text-align: right;\n",
       "    }\n",
       "</style>\n",
       "<table border=\"1\" class=\"dataframe\">\n",
       "  <thead>\n",
       "    <tr style=\"text-align: right;\">\n",
       "      <th></th>\n",
       "      <th>Event Name</th>\n",
       "      <th>Employee Name</th>\n",
       "    </tr>\n",
       "  </thead>\n",
       "  <tbody>\n",
       "    <tr>\n",
       "      <th>0</th>\n",
       "      <td>Hackathon</td>\n",
       "      <td>[Joseph Sullivan, Curtis Ortega, David Foster,...</td>\n",
       "    </tr>\n",
       "  </tbody>\n",
       "</table>\n",
       "</div>"
      ],
      "text/plain": [
       "  Event Name                                      Employee Name\n",
       "0  Hackathon  [Joseph Sullivan, Curtis Ortega, David Foster,..."
      ]
     },
     "execution_count": 14,
     "metadata": {},
     "output_type": "execute_result"
    }
   ],
   "source": [
    "df1['Employee Name'] = [lst]\n",
    "df1"
   ]
  },
  {
   "cell_type": "code",
   "execution_count": 15,
   "metadata": {},
   "outputs": [],
   "source": [
    "def converttostr(input_seq, seperator):\n",
    "   final_str = seperator.join(input_seq)\n",
    "   return final_str"
   ]
  },
  {
   "cell_type": "code",
   "execution_count": 16,
   "metadata": {},
   "outputs": [
    {
     "name": "stdout",
     "output_type": "stream",
     "text": [
      "Recommended Employees:  Joseph Sullivan, Curtis Ortega, David Foster, Christine Potter, Ernest Pierce\n"
     ]
    }
   ],
   "source": [
    "seperator = ', '\n",
    "print(\"Recommended Employees: \", converttostr(lst, seperator))"
   ]
  },
  {
   "cell_type": "code",
   "execution_count": 17,
   "metadata": {},
   "outputs": [],
   "source": [
    "## Saving file to xls\n",
    "import xlwt \n",
    "from xlwt import Workbook \n",
    "  \n",
    "wb = Workbook() \n",
    "  \n",
    "sheet1 = wb.add_sheet('Sheet 1')\n",
    "\n",
    "sheet1.write(0, 0, 'Event Name') \n",
    "sheet1.write(0, 1, 'Employee Name') \n",
    "sheet1.write(1, 0, s)\n",
    "sheet1.write(1, 1, converttostr(lst, seperator))\n",
    "\n",
    "wb.save('output.xls')"
   ]
  },
  {
   "cell_type": "code",
   "execution_count": null,
   "metadata": {},
   "outputs": [],
   "source": [
    "###"
   ]
  },
  {
   "cell_type": "code",
   "execution_count": 31,
   "metadata": {},
   "outputs": [],
   "source": [
    "import pickle\n",
    "import numpy as np\n",
    "from sklearn.metrics.pairwise import cosine_similarity\n",
    "import pandas as pd\n",
    "\n",
    "df = pd.read_csv('Model/preprocessing.csv')\n",
    "events = df.iloc[:,3:]\n",
    "\n",
    "eve = pickle.load(open('Model/Events.pickle','rb'))\n",
    "dom = pickle.load(open('Model/Domain.pickle','rb'))"
   ]
  },
  {
   "cell_type": "code",
   "execution_count": 55,
   "metadata": {},
   "outputs": [],
   "source": [
    "lookup = []\n",
    "recommendations = []"
   ]
  },
  {
   "cell_type": "code",
   "execution_count": 56,
   "metadata": {},
   "outputs": [],
   "source": [
    "def predict():\n",
    "    s = input('Enter the sentence: ')\n",
    "    \n",
    "    ev = [i for i in eve if i in s]\n",
    "    d = [i for i in dom if i in s]\n",
    "    \n",
    "    event1 = input(\"Enter Event 1: \")\n",
    "    event2 = input(\"Enter Event 2: \")\n",
    "    \n",
    "    event1 = eve[event1.lower()]\n",
    "    event2 = eve[event2.lower()]\n",
    "    \n",
    "    similar_metrics = cosine_similarity(events)\n",
    "    result = np.where(events == [event1,event2])[0][0]\n",
    "    \n",
    "    result = list(enumerate(similar_metrics[result]))\n",
    "    result = sorted(result,key= lambda x: x[1],reverse=True)\n",
    "    top = result[:5]\n",
    "    \n",
    "    lst = [(df['Name'].iloc[i[0]]) for i in top]\n",
    "    \n",
    "    print(s, '|', lst[0], ',' ,lst[1], ',' ,lst[2], ',', lst[3], ',', lst[4])\n",
    "    \n",
    "    global lookup\n",
    "    global recommendations\n",
    "    \n",
    "    lookup.append(\",\".join([s, lst[0], lst[1] ,lst[2], lst[3], lst[4]]))\n",
    "    recommendations.append(lst)"
   ]
  },
  {
   "cell_type": "code",
   "execution_count": 57,
   "metadata": {},
   "outputs": [
    {
     "name": "stdout",
     "output_type": "stream",
     "text": [
      "Enter total no of Jobs/Internships available: 3\n",
      "Enter the sentence: Jobs\n",
      "Enter Event 1: Jobs\n",
      "Enter Event 2: Jobs\n",
      "Jobs | Bryan Brock , Laura Hurst , Derek Schmidt , Andrea Thompson , Tracy Wilson\n",
      "Enter the sentence: Event\n",
      "Enter Event 1: Webinars\n",
      "Enter Event 2: Webinars\n",
      "Event | Joseph Sullivan , Curtis Ortega , David Foster , Christine Potter , Ernest Pierce\n",
      "Enter the sentence: Hackthon\n",
      "Enter Event 1: Webinars\n",
      "Enter Event 2: Jobs\n",
      "Hackthon | David Cox , Adam Richards , Daniel Lopez , Corey Moran , Melissa Diaz\n"
     ]
    }
   ],
   "source": [
    "N = int(input(\"Enter total no of Jobs/Internships available: \"))\n",
    "\n",
    "for _ in range(N):\n",
    "    predict()"
   ]
  },
  {
   "cell_type": "code",
   "execution_count": 58,
   "metadata": {},
   "outputs": [
    {
     "data": {
      "text/plain": [
       "['Jobs,Bryan Brock,Laura Hurst,Derek Schmidt,Andrea Thompson,Tracy Wilson',\n",
       " 'Event,Joseph Sullivan,Curtis Ortega,David Foster,Christine Potter,Ernest Pierce',\n",
       " 'Hackthon,David Cox,Adam Richards,Daniel Lopez,Corey Moran,Melissa Diaz']"
      ]
     },
     "execution_count": 58,
     "metadata": {},
     "output_type": "execute_result"
    }
   ],
   "source": [
    "lookup"
   ]
  },
  {
   "cell_type": "code",
   "execution_count": 59,
   "metadata": {},
   "outputs": [
    {
     "data": {
      "text/plain": [
       "[['Jobs',\n",
       "  'Bryan Brock',\n",
       "  'Laura Hurst',\n",
       "  'Derek Schmidt',\n",
       "  'Andrea Thompson',\n",
       "  'Tracy Wilson'],\n",
       " ['Event',\n",
       "  'Joseph Sullivan',\n",
       "  'Curtis Ortega',\n",
       "  'David Foster',\n",
       "  'Christine Potter',\n",
       "  'Ernest Pierce'],\n",
       " ['Hackthon',\n",
       "  'David Cox',\n",
       "  'Adam Richards',\n",
       "  'Daniel Lopez',\n",
       "  'Corey Moran',\n",
       "  'Melissa Diaz']]"
      ]
     },
     "execution_count": 59,
     "metadata": {},
     "output_type": "execute_result"
    }
   ],
   "source": [
    "lookup = [data.split(',') for data in lookup]\n",
    "lookup"
   ]
  },
  {
   "cell_type": "code",
   "execution_count": 60,
   "metadata": {},
   "outputs": [],
   "source": [
    "df1 = pd.DataFrame([lookup[i][0] for i in range(N)], columns=['Event Name'])"
   ]
  },
  {
   "cell_type": "code",
   "execution_count": 61,
   "metadata": {},
   "outputs": [
    {
     "data": {
      "text/html": [
       "<div>\n",
       "<style scoped>\n",
       "    .dataframe tbody tr th:only-of-type {\n",
       "        vertical-align: middle;\n",
       "    }\n",
       "\n",
       "    .dataframe tbody tr th {\n",
       "        vertical-align: top;\n",
       "    }\n",
       "\n",
       "    .dataframe thead th {\n",
       "        text-align: right;\n",
       "    }\n",
       "</style>\n",
       "<table border=\"1\" class=\"dataframe\">\n",
       "  <thead>\n",
       "    <tr style=\"text-align: right;\">\n",
       "      <th></th>\n",
       "      <th>Event Name</th>\n",
       "    </tr>\n",
       "  </thead>\n",
       "  <tbody>\n",
       "    <tr>\n",
       "      <th>0</th>\n",
       "      <td>Jobs</td>\n",
       "    </tr>\n",
       "    <tr>\n",
       "      <th>1</th>\n",
       "      <td>Event</td>\n",
       "    </tr>\n",
       "    <tr>\n",
       "      <th>2</th>\n",
       "      <td>Hackthon</td>\n",
       "    </tr>\n",
       "  </tbody>\n",
       "</table>\n",
       "</div>"
      ],
      "text/plain": [
       "  Event Name\n",
       "0       Jobs\n",
       "1      Event\n",
       "2   Hackthon"
      ]
     },
     "execution_count": 61,
     "metadata": {},
     "output_type": "execute_result"
    }
   ],
   "source": [
    "df1"
   ]
  },
  {
   "cell_type": "code",
   "execution_count": 62,
   "metadata": {},
   "outputs": [
    {
     "data": {
      "text/plain": [
       "[['Bryan Brock',\n",
       "  'Laura Hurst',\n",
       "  'Derek Schmidt',\n",
       "  'Andrea Thompson',\n",
       "  'Tracy Wilson'],\n",
       " ['Joseph Sullivan',\n",
       "  'Curtis Ortega',\n",
       "  'David Foster',\n",
       "  'Christine Potter',\n",
       "  'Ernest Pierce'],\n",
       " ['David Cox', 'Adam Richards', 'Daniel Lopez', 'Corey Moran', 'Melissa Diaz']]"
      ]
     },
     "execution_count": 62,
     "metadata": {},
     "output_type": "execute_result"
    }
   ],
   "source": [
    "recommendations"
   ]
  },
  {
   "cell_type": "code",
   "execution_count": 65,
   "metadata": {},
   "outputs": [
    {
     "data": {
      "text/html": [
       "<div>\n",
       "<style scoped>\n",
       "    .dataframe tbody tr th:only-of-type {\n",
       "        vertical-align: middle;\n",
       "    }\n",
       "\n",
       "    .dataframe tbody tr th {\n",
       "        vertical-align: top;\n",
       "    }\n",
       "\n",
       "    .dataframe thead th {\n",
       "        text-align: right;\n",
       "    }\n",
       "</style>\n",
       "<table border=\"1\" class=\"dataframe\">\n",
       "  <thead>\n",
       "    <tr style=\"text-align: right;\">\n",
       "      <th></th>\n",
       "      <th>Event Name</th>\n",
       "    </tr>\n",
       "  </thead>\n",
       "  <tbody>\n",
       "    <tr>\n",
       "      <th>0</th>\n",
       "      <td>Jobs</td>\n",
       "    </tr>\n",
       "    <tr>\n",
       "      <th>1</th>\n",
       "      <td>Event</td>\n",
       "    </tr>\n",
       "    <tr>\n",
       "      <th>2</th>\n",
       "      <td>Hackthon</td>\n",
       "    </tr>\n",
       "  </tbody>\n",
       "</table>\n",
       "</div>"
      ],
      "text/plain": [
       "  Event Name\n",
       "0       Jobs\n",
       "1      Event\n",
       "2   Hackthon"
      ]
     },
     "execution_count": 65,
     "metadata": {},
     "output_type": "execute_result"
    }
   ],
   "source": [
    "df1[\"\"]"
   ]
  },
  {
   "cell_type": "code",
   "execution_count": 66,
   "metadata": {},
   "outputs": [
    {
     "data": {
      "text/plain": [
       "3"
      ]
     },
     "execution_count": 66,
     "metadata": {},
     "output_type": "execute_result"
    }
   ],
   "source": [
    "len(recommendations)"
   ]
  },
  {
   "cell_type": "code",
   "execution_count": 67,
   "metadata": {},
   "outputs": [],
   "source": [
    "df1['Employee Name'] = recommendations"
   ]
  },
  {
   "cell_type": "code",
   "execution_count": 68,
   "metadata": {},
   "outputs": [
    {
     "data": {
      "text/html": [
       "<div>\n",
       "<style scoped>\n",
       "    .dataframe tbody tr th:only-of-type {\n",
       "        vertical-align: middle;\n",
       "    }\n",
       "\n",
       "    .dataframe tbody tr th {\n",
       "        vertical-align: top;\n",
       "    }\n",
       "\n",
       "    .dataframe thead th {\n",
       "        text-align: right;\n",
       "    }\n",
       "</style>\n",
       "<table border=\"1\" class=\"dataframe\">\n",
       "  <thead>\n",
       "    <tr style=\"text-align: right;\">\n",
       "      <th></th>\n",
       "      <th>Event Name</th>\n",
       "      <th>Employee Name</th>\n",
       "    </tr>\n",
       "  </thead>\n",
       "  <tbody>\n",
       "    <tr>\n",
       "      <th>0</th>\n",
       "      <td>Jobs</td>\n",
       "      <td>[Bryan Brock, Laura Hurst, Derek Schmidt, Andr...</td>\n",
       "    </tr>\n",
       "    <tr>\n",
       "      <th>1</th>\n",
       "      <td>Event</td>\n",
       "      <td>[Joseph Sullivan, Curtis Ortega, David Foster,...</td>\n",
       "    </tr>\n",
       "    <tr>\n",
       "      <th>2</th>\n",
       "      <td>Hackthon</td>\n",
       "      <td>[David Cox, Adam Richards, Daniel Lopez, Corey...</td>\n",
       "    </tr>\n",
       "  </tbody>\n",
       "</table>\n",
       "</div>"
      ],
      "text/plain": [
       "  Event Name                                      Employee Name\n",
       "0       Jobs  [Bryan Brock, Laura Hurst, Derek Schmidt, Andr...\n",
       "1      Event  [Joseph Sullivan, Curtis Ortega, David Foster,...\n",
       "2   Hackthon  [David Cox, Adam Richards, Daniel Lopez, Corey..."
      ]
     },
     "execution_count": 68,
     "metadata": {},
     "output_type": "execute_result"
    }
   ],
   "source": [
    "df1"
   ]
  },
  {
   "cell_type": "code",
   "execution_count": 69,
   "metadata": {},
   "outputs": [],
   "source": [
    "## Saving file to xls\n",
    "import xlwt \n",
    "from xlwt import Workbook \n",
    "  \n",
    "wb = Workbook() \n",
    "  \n",
    "sheet1 = wb.add_sheet('Sheet 1')\n",
    "\n",
    "sheet1.write(0, 0, 'Event Name') \n",
    "sheet1.write(0, 1, 'Employee Name') \n",
    "#sheet1.write(1, 0, s)\n",
    "#sheet1.write(1, 1, converttostr(lst, seperator))\n",
    "\n",
    "#wb.save('output.xls')"
   ]
  },
  {
   "cell_type": "code",
   "execution_count": 71,
   "metadata": {},
   "outputs": [],
   "source": [
    "def converttostr(input_seq, seperator=', '):\n",
    "   final_str = seperator.join(input_seq)\n",
    "   return final_str"
   ]
  },
  {
   "cell_type": "code",
   "execution_count": 73,
   "metadata": {},
   "outputs": [],
   "source": [
    "for i in range(0,N):\n",
    "    sheet1.write(i+1, 0, lookup[i][0])\n",
    "    sheet1.write(i+1, 1, converttostr(recommendations[i]))"
   ]
  },
  {
   "cell_type": "code",
   "execution_count": 74,
   "metadata": {},
   "outputs": [],
   "source": [
    "wb.save('output.xls')"
   ]
  },
  {
   "cell_type": "markdown",
   "metadata": {},
   "source": [
    "## Final Phase for `code.py`"
   ]
  },
  {
   "cell_type": "code",
   "execution_count": 2,
   "metadata": {},
   "outputs": [
    {
     "name": "stdout",
     "output_type": "stream",
     "text": [
      "Enter total no of test to be done: 5\n",
      "Enter the sentence for Job/Internship: Jobs\n",
      "Enter Event 1: Jobs\n",
      "Enter Event 2: Jobs\n",
      "Jobs || Bryan Brock , Laura Hurst , Derek Schmidt , Andrea Thompson , Tracy Wilson\n",
      "Enter the sentence for Job/Internship: Jobs\n",
      "Enter Event 1: Jobs\n",
      "Enter Event 2: Jobs\n",
      "Jobs || Bryan Brock , Laura Hurst , Derek Schmidt , Andrea Thompson , Tracy Wilson\n",
      "Enter the sentence for Job/Internship: Jobs\n",
      "Enter Event 1: Jobs\n",
      "Enter Event 2: Jobs\n",
      "Jobs || Bryan Brock , Laura Hurst , Derek Schmidt , Andrea Thompson , Tracy Wilson\n",
      "Enter the sentence for Job/Internship: Jobs\n",
      "Enter Event 1: Jobs\n",
      "Enter Event 2: Jobs\n",
      "Jobs || Bryan Brock , Laura Hurst , Derek Schmidt , Andrea Thompson , Tracy Wilson\n",
      "Enter the sentence for Job/Internship: Jobs\n",
      "Enter Event 1: Jobs\n",
      "Enter Event 2: Jobs\n",
      "Jobs || Bryan Brock , Laura Hurst , Derek Schmidt , Andrea Thompson , Tracy Wilson\n",
      "Xls sheet created with the name of output \n",
      "Thanks !!\n"
     ]
    }
   ],
   "source": [
    "import pickle\n",
    "import numpy as np\n",
    "from sklearn.metrics.pairwise import cosine_similarity\n",
    "import pandas as pd\n",
    "\n",
    "df = pd.read_csv('Model/preprocessing.csv')\n",
    "events = df.iloc[:,3:]\n",
    "\n",
    "eve,dom = pickle.load(open('Model/Events.pickle','rb')),pickle.load(open('Model/Domain.pickle','rb'))\n",
    "\n",
    "lookup,recommendations = [],[]\n",
    "\n",
    "\n",
    "def predict():\n",
    "    s = input('Enter the sentence for Job/Internship: ')\n",
    "    \n",
    "    ev = [i for i in eve if i in s]\n",
    "    d = [i for i in dom if i in s]\n",
    "    \n",
    "    event1 = input(\"Enter Event 1: \")\n",
    "    event2 = input(\"Enter Event 2: \")\n",
    "    \n",
    "    event1 = eve[event1.lower()]\n",
    "    event2 = eve[event2.lower()]\n",
    "    \n",
    "    similar_metrics = cosine_similarity(events)\n",
    "    result = np.where(events == [event1,event2])[0][0]\n",
    "    \n",
    "    result = list(enumerate(similar_metrics[result]))\n",
    "    result = sorted(result,key= lambda x: x[1],reverse=True)\n",
    "    top = result[:5]\n",
    "    \n",
    "    lst = [(df['Name'].iloc[i[0]]) for i in top]\n",
    "    \n",
    "    print(s, '||', lst[0], ',' ,lst[1], ',' ,lst[2], ',', lst[3], ',', lst[4])\n",
    "    \n",
    "    global lookup\n",
    "    global recommendations\n",
    "    \n",
    "    lookup.append(\",\".join([s, lst[0], lst[1] ,lst[2], lst[3], lst[4]]))\n",
    "    recommendations.append(lst)\n",
    "    \n",
    "N = int(input(\"Enter total no of test to be done: \"))\n",
    "\n",
    "for _ in range(N):\n",
    "    predict()\n",
    "lookup = [data.split(',') for data in lookup]\n",
    "df1 = pd.DataFrame([lookup[i][0] for i in range(N)], columns=['Event Name'])\n",
    "df1['Employee Name'] = recommendations\n",
    "\n",
    "def converttostr(input_seq, seperator=', '):\n",
    "   final_str = seperator.join(input_seq)\n",
    "   return final_str\n",
    "\n",
    "\n",
    "## Saving file to xls\n",
    "import xlwt \n",
    "from xlwt import Workbook \n",
    "  \n",
    "wb = Workbook() \n",
    "  \n",
    "sheet1 = wb.add_sheet('Sheet 1')\n",
    "\n",
    "sheet1.write(0, 0, 'Event Name') \n",
    "sheet1.write(0, 1, 'Employee Name') \n",
    "\n",
    "for i in range(0,N):\n",
    "    sheet1.write(i+1, 0, lookup[i][0])\n",
    "    sheet1.write(i+1, 1, converttostr(recommendations[i]))\n",
    "    \n",
    "wb.save('output1.xls')\n",
    "print(\"Xls sheet created with the name of output \")\n",
    "print()\n",
    "print()\n",
    "print(\"Thanks !!\")"
   ]
  },
  {
   "cell_type": "code",
   "execution_count": null,
   "metadata": {},
   "outputs": [],
   "source": []
  }
 ],
 "metadata": {
  "kernelspec": {
   "display_name": "Python 3",
   "language": "python",
   "name": "python3"
  },
  "language_info": {
   "codemirror_mode": {
    "name": "ipython",
    "version": 3
   },
   "file_extension": ".py",
   "mimetype": "text/x-python",
   "name": "python",
   "nbconvert_exporter": "python",
   "pygments_lexer": "ipython3",
   "version": "3.7.6"
  }
 },
 "nbformat": 4,
 "nbformat_minor": 4
}
